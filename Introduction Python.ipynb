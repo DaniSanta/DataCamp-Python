{
 "cells": [
  {
   "cell_type": "code",
   "execution_count": 5,
   "metadata": {},
   "outputs": [],
   "source": [
    "#Python Variables \n",
    "savings = 100\n",
    "growth_multiplier = 1.1 \n",
    "desc = \"compound interest\""
   ]
  },
  {
   "cell_type": "code",
   "execution_count": 6,
   "metadata": {},
   "outputs": [
    {
     "name": "stdout",
     "output_type": "stream",
     "text": [
      "<class 'float'>\n"
     ]
    }
   ],
   "source": [
    "year1 = growth_multiplier * savings \n",
    "print(type(year1))"
   ]
  },
  {
   "cell_type": "code",
   "execution_count": 7,
   "metadata": {},
   "outputs": [
    {
     "name": "stdout",
     "output_type": "stream",
     "text": [
      "compound interestcompound interest\n"
     ]
    }
   ],
   "source": [
    "doubledesc = desc + desc \n",
    "print(doubledesc)"
   ]
  },
  {
   "cell_type": "code",
   "execution_count": 9,
   "metadata": {},
   "outputs": [
    {
     "name": "stdout",
     "output_type": "stream",
     "text": [
      "I started with $100 and now have $194.87171000000012. Awesome!\n",
      "3.1415926\n"
     ]
    }
   ],
   "source": [
    "#Definition of Savings and Result \n",
    "savings = 100\n",
    "result = 100 * 1.10 ** 7 \n",
    "\n",
    "#print out \n",
    "print(\"I started with $\" + str(savings) + \" and now have $\" + str(result) + \". Awesome!\")\n",
    "\n",
    "#definition of pi_string \n",
    "pi_string = \"3.1415926\"\n",
    "\n",
    "#convert pi_string into float\": pi_float\n",
    "pi_float = float(pi_string)\n",
    "print(pi_float)"
   ]
  },
  {
   "cell_type": "code",
   "execution_count": null,
   "metadata": {},
   "outputs": [],
   "source": []
  }
 ],
 "metadata": {
  "kernelspec": {
   "display_name": "Python 3",
   "language": "python",
   "name": "python3"
  },
  "language_info": {
   "codemirror_mode": {
    "name": "ipython",
    "version": 3
   },
   "file_extension": ".py",
   "mimetype": "text/x-python",
   "name": "python",
   "nbconvert_exporter": "python",
   "pygments_lexer": "ipython3",
   "version": "3.7.4"
  }
 },
 "nbformat": 4,
 "nbformat_minor": 2
}
